{
 "cells": [
  {
   "cell_type": "code",
   "execution_count": null,
   "metadata": {},
   "outputs": [],
   "source": [
    "import numpy as np\n",
    "import numpy.random as rnd\n",
    "import numpy.linalg as LA\n",
    "import matplotlib.pyplot as plt\n",
    "\n",
    "from dh_function.basic import remap"
   ]
  },
  {
   "cell_type": "code",
   "execution_count": null,
   "metadata": {},
   "outputs": [],
   "source": [
    "# lognormal\n",
    "\n",
    "mean = 30.\n",
    "std = 30.\n",
    "num = 20000\n",
    "\n",
    "sign = np.sign(mean)\n",
    "\n",
    "mu = -np.log((std**2 / mean**2 + 1) / mean**2) / 2.\n",
    "sigma = np.sqrt(2. * (np.log(sign * mean) - mu))\n",
    "s = sign * rnd.lognormal(mu, sigma, num)\n",
    "print(f'mean: {s.mean()}, std: {s.std()}')\n",
    "count, bins, ignored = plt.hist(s, 1000, density=True, align=\"mid\")\n",
    "\n",
    "plt.xlim(0., 300)\n",
    "# plt.xlim(-200, 0)\n",
    "plt.show()\n"
   ]
  },
  {
   "cell_type": "code",
   "execution_count": null,
   "metadata": {},
   "outputs": [],
   "source": [
    "# gamma\n",
    "\n",
    "mean = 30.\n",
    "std = 30.\n",
    "num = 20000\n",
    "\n",
    "sign = np.sign(mean)\n",
    "shape = mean**2 / std**2\n",
    "scale = sign * std**2 / mean\n",
    "\n",
    "s = sign * rnd.gamma(shape, scale, num)\n",
    "count, bins, ignored = plt.hist(s, 1000, density=True, align=\"mid\")\n",
    "\n",
    "plt.show()"
   ]
  },
  {
   "cell_type": "code",
   "execution_count": null,
   "metadata": {},
   "outputs": [],
   "source": []
  }
 ],
 "metadata": {
  "kernelspec": {
   "display_name": "Python 3.8.10 64-bit",
   "language": "python",
   "name": "python3"
  },
  "language_info": {
   "codemirror_mode": {
    "name": "ipython",
    "version": 3
   },
   "file_extension": ".py",
   "mimetype": "text/x-python",
   "name": "python",
   "nbconvert_exporter": "python",
   "pygments_lexer": "ipython3",
   "version": "3.8.10"
  },
  "orig_nbformat": 4,
  "vscode": {
   "interpreter": {
    "hash": "e7370f93d1d0cde622a1f8e1c04877d8463912d04d973331ad4851f04de6915a"
   }
  }
 },
 "nbformat": 4,
 "nbformat_minor": 2
}
