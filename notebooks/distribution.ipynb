{
 "cells": [
  {
   "cell_type": "code",
   "execution_count": 2,
   "metadata": {},
   "outputs": [],
   "source": [
    "import numpy as np\n",
    "import numpy.random as rnd\n",
    "import numpy.linalg as LA\n",
    "import matplotlib.pyplot as plt\n",
    "\n",
    "from dh_function.basic import remap"
   ]
  },
  {
   "cell_type": "code",
   "execution_count": 5,
   "metadata": {},
   "outputs": [
    {
     "name": "stdout",
     "output_type": "stream",
     "text": [
      "mean: 29.998275082049485, std: 29.967136872714022\n"
     ]
    },
    {
     "data": {
      "image/png": "[encoded data removed]",
      "text/plain": [
       "<Figure size 432x288 with 1 Axes>"
      ]
     },
     "metadata": {
      "needs_background": "light"
     },
     "output_type": "display_data"
    }
   ],
   "source": [
    "# lognormal\n",
    "\n",
    "mean = 30.\n",
    "std = 30.\n",
    "num = 20000\n",
    "\n",
    "sign = np.sign(mean)\n",
    "\n",
    "mu = -np.log((std**2 / mean**2 + 1) / mean**2) / 2.\n",
    "sigma = np.sqrt(2. * (np.log(sign * mean) - mu))\n",
    "s = sign * rnd.lognormal(mu, sigma, num)\n",
    "print(f'mean: {s.mean()}, std: {s.std()}')\n",
    "count, bins, ignored = plt.hist(s, 1000, density=True, align=\"mid\")\n",
    "\n",
    "plt.xlim(0., 300)\n",
    "# plt.xlim(-200, 0)\n",
    "plt.show()\n"
   ]
  },
  {
   "cell_type": "code",
   "execution_count": 4,
   "metadata": {},
   "outputs": [
    {
     "data": {
      "image/png": "[encoded data removed]",
      "text/plain": [
       "<Figure size 432x288 with 1 Axes>"
      ]
     },
     "metadata": {
      "needs_background": "light"
     },
     "output_type": "display_data"
    }
   ],
   "source": [
    "# gamma\n",
    "\n",
    "mean = 30.\n",
    "std = 30.\n",
    "num = 20000\n",
    "\n",
    "sign = np.sign(mean)\n",
    "shape = mean**2 / std**2\n",
    "scale = sign * std**2 / mean\n",
    "\n",
    "s = sign * rnd.gamma(shape, scale, num)\n",
    "count, bins, ignored = plt.hist(s, 1000, density=True, align=\"mid\")\n",
    "\n",
    "plt.show()"
   ]
  },
  {
   "cell_type": "code",
   "execution_count": null,
   "metadata": {},
   "outputs": [],
   "source": []
  }
 ],
 "metadata": {
  "interpreter": {
   "hash": "9770b3b63a11d57f436c1f4aa7e7280f097154abdb1f4da68d3c61582607b2fd"
  },
  "kernelspec": {
   "display_name": "Python 3.9.7 64-bit ('grad-thesis': conda)",
   "name": "python3"
  },
  "language_info": {
   "codemirror_mode": {
    "name": "ipython",
    "version": 3
   },
   "file_extension": ".py",
   "mimetype": "text/x-python",
   "name": "python",
   "nbconvert_exporter": "python",
   "pygments_lexer": "ipython3",
   "version": "3.9.7"
  },
  "orig_nbformat": 4
 },
 "nbformat": 4,
 "nbformat_minor": 2
}
